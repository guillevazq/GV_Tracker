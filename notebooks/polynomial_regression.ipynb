{
  "nbformat": 4,
  "nbformat_minor": 2,
  "metadata": {
    "colab": {
      "name": "polynomial_regression.ipynb",
      "provenance": [],
      "toc_visible": true
    },
    "kernelspec": {
      "name": "python3",
      "display_name": "Python 3"
    },
    "language_info": {
      "name": "python"
    }
  },
  "cells": [
    {
      "cell_type": "code",
      "execution_count": 51,
      "source": [
        "# Transform the data\n",
        "import matplotlib.pyplot as plt\n",
        "import numpy as np\n",
        "import pandas as pd\n",
        "\n",
        "original_x = [0, 7, 12, 15, 17, 20, 24, 30]\n",
        "original_y = [5.3, 5.2, 5.4, 5.1, 5.3, 5.2, 5.1, 5.2]\n",
        "\n",
        "x = pd.DataFrame(original_x)\n",
        "y = pd.DataFrame(original_y)"
      ],
      "outputs": [],
      "metadata": {
        "id": "GMHBRdxVdwav"
      }
    },
    {
      "cell_type": "code",
      "execution_count": null,
      "source": [
        "# Get the polynomial curve of degree 3\n",
        "from sklearn.preprocessing import PolynomialFeatures\n",
        "from sklearn.linear_model import LinearRegression\n",
        "\n",
        "polynomial_features = PolynomialFeatures(degree=2, include_bias=False)\n",
        "x_poly = polynomial_features.fit_transform(x)\n",
        "\n",
        "linear_regression = LinearRegression()\n",
        "linear_regression.fit(x_poly, y)\n",
        "intercept, coefficient = linear_regression.intercept_, linear_regression.coef_[0]"
      ],
      "outputs": [],
      "metadata": {
        "id": "d-jHo1Vpe3IF"
      }
    },
    {
      "cell_type": "code",
      "execution_count": 88,
      "source": [
        "# Represent the curve alongside the datapoints\n",
        "x_axis_representation = np.arange(0, 60)\n",
        "\n",
        "polynomial_function = intercept[0]\n",
        "for index, single_coefficient in enumerate(coefficient):\n",
        "  polynomial_function += single_coefficient * (x_axis_representation ** (index + 1))\n",
        "\n",
        "plt.plot(x_axis_representation, polynomial_function)\n",
        "plt.scatter(original_x, original_y)"
      ],
      "outputs": [
        {
          "output_type": "execute_result",
          "data": {
            "text/plain": [
              "<matplotlib.collections.PathCollection at 0x7fdd1c4c99d0>"
            ]
          },
          "metadata": {},
          "execution_count": 88
        },
        {
          "output_type": "display_data",
          "data": {
            "text/plain": [
              "<Figure size 432x288 with 1 Axes>"
            ],
            "image/png": "[encoded data removed]"
          },
          "metadata": {
            "needs_background": "light"
          }
        }
      ],
      "metadata": {
        "colab": {
          "base_uri": "https://localhost:8080/",
          "height": 282
        },
        "id": "I-fxqw7qijDM",
        "outputId": "4ce304de-2738-4118-e8ea-2346b7361d0b"
      }
    },
    {
      "cell_type": "code",
      "execution_count": 100,
      "source": [
        "# Create usable function\n",
        "def get_polynomial_function(pace_each_day, specific_days, degree):\n",
        "\n",
        "  # Transform data\n",
        "  x = pd.DataFrame(specific_days)\n",
        "  y = pd.DataFrame(pace_each_day)\n",
        "\n",
        "  # Prepare and set hyperparameters\n",
        "  polynomial_features = PolynomialFeatures(degree=degree, include_bias=False)\n",
        "  x_poly = polynomial_features.fit_transform(x)\n",
        "\n",
        "  # Train model\n",
        "  linear_regression = LinearRegression()\n",
        "  linear_regression.fit(x_poly, y)\n",
        "  intercept, coefficients = linear_regression.intercept_[0], linear_regression.coef_[0]\n",
        "\n",
        "  return intercept, coefficients\n",
        "\n",
        "def visualize_function(intercept, coefficients, pace_each_day, days_ran, number_of_future_days):\n",
        "  x_axis_representation = np.arange(0, number_of_future_days)\n",
        "  \n",
        "  polynomial_function = intercept\n",
        "  for index, single_coefficient in enumerate(coefficients):\n",
        "    polynomial_function += single_coefficient * (x_axis_representation ** (index + 1))\n",
        "  \n",
        "  plt.plot(x_axis_representation, polynomial_function)\n",
        "  plt.scatter(days_ran, pace_each_day)"
      ],
      "outputs": [],
      "metadata": {
        "id": "o75G_X82pgC-"
      }
    },
    {
      "cell_type": "code",
      "execution_count": 114,
      "source": [
        "# Use functions\n",
        "pace_min_per_km = [5.3, 5.2, 5.3, 5.1, 5.2, 5.1, 5.0]\n",
        "days_ran = [0, 4, 6, 8, 15, 18, 35]\n",
        "\n",
        "intercept, coefficients = get_polynomial_function(pace_min_per_km, days_ran, 2) # For the 60 days range, degree=2 seems to have realistic results\n",
        "visualize_function(intercept, coefficients, pace_min_per_km, days_ran, 120)"
      ],
      "outputs": [
        {
          "output_type": "display_data",
          "data": {
            "text/plain": [
              "<Figure size 432x288 with 1 Axes>"
            ],
            "image/png": "[encoded data removed]"
          },
          "metadata": {
            "needs_background": "light"
          }
        }
      ],
      "metadata": {
        "colab": {
          "base_uri": "https://localhost:8080/",
          "height": 265
        },
        "id": "YTLoqq87rTM9",
        "outputId": "aa1f024c-aa55-4b79-81fa-c88c3ede84d9"
      }
    }
  ]
}